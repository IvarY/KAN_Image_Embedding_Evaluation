{
 "cells": [
  {
   "cell_type": "code",
   "execution_count": null,
   "id": "89ad6cec",
   "metadata": {},
   "outputs": [],
   "source": [
    "# %load_ext autoreload\n",
    "# %autoreload 2\n",
    "\n",
    "BATCH_SIZE = 128"
   ]
  },
  {
   "cell_type": "code",
   "execution_count": 2,
   "id": "7a9ae49a",
   "metadata": {},
   "outputs": [],
   "source": [
    "from models.EKAN import EKANModel\n",
    "from models.MLP import MLPModel\n",
    "from models.WavKAN import WavKANModel\n",
    "from train_model import train_model, get_data_loaders\n",
    "# name: model\n",
    "models = {\n",
    "    \"EKAN_dpno\": EKANModel(use_dropout=False),\n",
    "    \"EKAN_dp03\": EKANModel(use_dropout=True, dropout_rate=0.3),\n",
    "    \"EKAN_dp05\": EKANModel(use_dropout=True, dropout_rate=0.5),\n",
    "    \"MLP_dpno\": MLPModel(use_dropout=False),\n",
    "    \"MLP_dp03\": MLPModel(use_dropout=True, dropout_rate=0.3),\n",
    "    \"MLP_dp05\": MLPModel(use_dropout=True, dropout_rate=0.5),\n",
    "    \"WavKAN_dpno\": WavKANModel(use_dropout=False),\n",
    "    \"WavKAN_dp03\": WavKANModel(use_dropout=True, dropout_rate=0.3),\n",
    "    \"WavKAN_dp05\": WavKANModel(use_dropout=True, dropout_rate=0.5)\n",
    "}"
   ]
  },
  {
   "cell_type": "code",
   "execution_count": null,
   "id": "414103eb",
   "metadata": {},
   "outputs": [
    {
     "name": "stdout",
     "output_type": "stream",
     "text": [
      "[1] Processing model: EKAN_dpno\n",
      "  - Evaluating train embeddings...\n",
      "  - Evaluating val embeddings...\n",
      "  - Evaluating test embeddings...\n",
      "[2] Processing model: EKAN_dp03\n",
      "  - Evaluating train embeddings...\n",
      "  - Evaluating val embeddings...\n",
      "  - Evaluating test embeddings...\n",
      "[3] Processing model: EKAN_dp05\n",
      "  - Evaluating train embeddings...\n",
      "  - Evaluating val embeddings...\n",
      "  - Evaluating test embeddings...\n",
      "[4] Processing model: MLP_dpno\n",
      "  - Evaluating train embeddings...\n",
      "  - Evaluating val embeddings...\n",
      "  - Evaluating test embeddings...\n",
      "[5] Processing model: MLP_dp03\n",
      "  - Evaluating train embeddings...\n",
      "  - Evaluating val embeddings...\n",
      "  - Evaluating test embeddings...\n",
      "[6] Processing model: MLP_dp05\n",
      "  - Evaluating train embeddings...\n",
      "  - Evaluating val embeddings...\n",
      "  - Evaluating test embeddings...\n",
      "[7] Processing model: WavKAN_dpno\n",
      "  - Evaluating train embeddings...\n",
      "  - Evaluating val embeddings...\n",
      "  - Evaluating test embeddings...\n",
      "[8] Processing model: WavKAN_dp03\n",
      "  - Evaluating train embeddings...\n",
      "  - Evaluating val embeddings...\n",
      "  - Evaluating test embeddings...\n",
      "[9] Processing model: WavKAN_dp05\n",
      "  - Evaluating train embeddings...\n",
      "  - Evaluating val embeddings...\n",
      "  - Evaluating test embeddings...\n",
      "Saved interpolation precision results to ./results/interpolation_precision.csv\n"
     ]
    }
   ],
   "source": [
    "# from evaluation.interpolation_analysis import interpolate_analysis\n",
    "# interpolate_analysis(models_dict=models, n_samples=20, n_interp=10)"
   ]
  },
  {
   "cell_type": "code",
   "execution_count": null,
   "id": "9d03e571",
   "metadata": {},
   "outputs": [
    {
     "name": "stdout",
     "output_type": "stream",
     "text": [
      "Using device: cpu\n",
      "Loading CIFAR-10 dataset...\n",
      "Train samples: 40000\n",
      "Validation samples: 10000\n",
      "Test samples: 10000\n",
      "\n",
      "Starting training for 3 epochs...\n",
      "------------------------------------------------------------\n",
      "Epoch [  1/3] | Train Loss: 0.9610 | Val Loss: 0.8119 | Train Acc: 66.08% | Val Acc: 71.29% | Time: 20.95s\n",
      "New best model saved: results\\models\\MLP_dpno\\model.pt\n",
      "Epoch [  2/3] | Train Loss: 0.7764 | Val Loss: 0.7547 | Train Acc: 72.64% | Val Acc: 73.85% | Time: 20.95s\n",
      "New best model saved: results\\models\\MLP_dpno\\model.pt\n",
      "Epoch [  3/3] | Train Loss: 0.7032 | Val Loss: 0.7129 | Train Acc: 75.45% | Val Acc: 74.53% | Time: 21.04s\n",
      "New best model saved: results\\models\\MLP_dpno\\model.pt\n",
      "------------------------------------------------------------\n",
      "Training completed!\n",
      "Average epoch time: 20.98s\n",
      "Training history saved to: results\\models\\MLP_dpno\\MLP_dpno_training_history.csv\n",
      "\n",
      "Evaluating on test set...\n",
      "Test Loss: 0.7423 | Test Accuracy: 74.44%\n",
      "\n",
      "Extracting and saving embeddings from best model...\n",
      "Saved train embeddings to results\\models\\MLP_dpno\\train_embeddings.pt\n",
      "Saved val embeddings to results\\models\\MLP_dpno\\val_embeddings.pt\n",
      "Saved test embeddings to results\\models\\MLP_dpno\\test_embeddings.pt\n"
     ]
    }
   ],
   "source": [
    "# name = \"MLP_dpno\"\n",
    "# model = models[name]\n",
    "# train_loader, val_loader, test_loader, train_no_aug_loader = get_data_loaders(BATCH_SIZE)\n",
    "# df_res = train_model(model, name,\n",
    "#                 train_loader, val_loader, test_loader, train_no_aug_loader,\n",
    "#                 num_epochs=3, batch_size=BATCH_SIZE,\n",
    "#                 test_model=True)"
   ]
  },
  {
   "cell_type": "code",
   "execution_count": null,
   "id": "15b79788",
   "metadata": {},
   "outputs": [],
   "source": [
    "for name in models:\n",
    "    model = models[name]\n",
    "    train_loader, val_loader, test_loader, train_no_aug_loader = get_data_loaders(BATCH_SIZE)\n",
    "    df_res = train_model(model, name,\n",
    "                    train_loader, val_loader, test_loader,\n",
    "                    num_epochs=10, batch_size=BATCH_SIZE)\n",
    "    break"
   ]
  },
  {
   "cell_type": "code",
   "execution_count": 18,
   "id": "1f510349",
   "metadata": {},
   "outputs": [
    {
     "name": "stdout",
     "output_type": "stream",
     "text": [
      "[1] Processing model: EKAN\n",
      "  - train embeddings not found, skipping.\n",
      "  - val embeddings not found, skipping.\n",
      "  - test embeddings not found, skipping.\n",
      "[2] Processing model: MLP_dpno\n",
      "  - Evaluating train embeddings...\n",
      "  - Evaluating val embeddings...\n",
      "  - Evaluating test embeddings...\n",
      "[3] Processing model: WavKAN_dpno\n",
      "  - train embeddings not found, skipping.\n",
      "  - val embeddings not found, skipping.\n",
      "  - test embeddings not found, skipping.\n",
      "Saved KNN precision results to ./results/knn_precision_all.csv\n"
     ]
    }
   ],
   "source": [
    "from evaluation.KNN_precision import evaluate_embeddings\n",
    "evaluate_embeddings(use_torch=True, device='cpu')"
   ]
  },
  {
   "cell_type": "code",
   "execution_count": 16,
   "id": "f3601522",
   "metadata": {},
   "outputs": [
    {
     "name": "stdout",
     "output_type": "stream",
     "text": [
      "Processing model: EKAN\n",
      "  - train embeddings not found, skipping.\n",
      "  - val embeddings not found, skipping.\n",
      "  - test embeddings not found, skipping.\n",
      "Processing model: MLP_dpno\n",
      "  - Creating t-SNE for train embeddings...\n",
      "    Saved t-SNE plot to results\\models\\MLP_dpno\\train_tsne.png\n",
      "    Saved t-SNE plot to results\\models\\MLP_dpno\\train_tsne_l2norm.png\n",
      "  - Creating t-SNE for val embeddings...\n",
      "    Saved t-SNE plot to results\\models\\MLP_dpno\\val_tsne.png\n",
      "    Saved t-SNE plot to results\\models\\MLP_dpno\\val_tsne_l2norm.png\n",
      "  - Creating t-SNE for test embeddings...\n",
      "    Saved t-SNE plot to results\\models\\MLP_dpno\\test_tsne.png\n",
      "    Saved t-SNE plot to results\\models\\MLP_dpno\\test_tsne_l2norm.png\n",
      "Processing model: WavKAN_dpno\n",
      "  - train embeddings not found, skipping.\n",
      "  - val embeddings not found, skipping.\n",
      "  - test embeddings not found, skipping.\n"
     ]
    }
   ],
   "source": [
    "from evaluation.plot_tSNE import create_plots\n",
    "create_plots()"
   ]
  },
  {
   "cell_type": "code",
   "execution_count": 1,
   "id": "97e93e6b",
   "metadata": {},
   "outputs": [
    {
     "name": "stdout",
     "output_type": "stream",
     "text": [
      "[1] Processing model: EKAN_dp03\n",
      "  - Evaluating train embeddings...\n",
      "  - Evaluating val embeddings...\n",
      "  - Evaluating test embeddings...\n",
      "[2] Processing model: EKAN_dp05\n",
      "  - Evaluating train embeddings...\n",
      "  - Evaluating val embeddings...\n",
      "  - Evaluating test embeddings...\n",
      "[3] Processing model: EKAN_dpno\n",
      "  - Evaluating train embeddings...\n",
      "  - Evaluating val embeddings...\n",
      "  - Evaluating test embeddings...\n",
      "[4] Processing model: MLP_dp03\n",
      "  - Evaluating train embeddings...\n",
      "  - Evaluating val embeddings...\n",
      "  - Evaluating test embeddings...\n",
      "[5] Processing model: MLP_dp05\n",
      "  - Evaluating train embeddings...\n",
      "  - Evaluating val embeddings...\n",
      "  - Evaluating test embeddings...\n",
      "[6] Processing model: MLP_dpno\n",
      "  - Evaluating train embeddings...\n",
      "  - Evaluating val embeddings...\n",
      "  - Evaluating test embeddings...\n",
      "[7] Processing model: WavKAN_dp03\n",
      "  - Evaluating train embeddings...\n",
      "  - Evaluating val embeddings...\n",
      "  - Evaluating test embeddings...\n",
      "[8] Processing model: WavKAN_dp05\n",
      "  - Evaluating train embeddings...\n",
      "  - Evaluating val embeddings...\n",
      "  - Evaluating test embeddings...\n",
      "[9] Processing model: WavKAN_dpno\n",
      "  - Evaluating train embeddings...\n",
      "  - Evaluating val embeddings...\n",
      "  - Evaluating test embeddings...\n",
      "Saved silhouette scores to ./results/silhouette_scores_all.csv\n"
     ]
    }
   ],
   "source": [
    "from evaluation.calculate_silhouette import evaluate_silhouette_scores\n",
    "evaluate_silhouette_scores(models_path='./kaggle_results/results/models')"
   ]
  },
  {
   "cell_type": "code",
   "execution_count": null,
   "id": "52c87298",
   "metadata": {},
   "outputs": [],
   "source": []
  }
 ],
 "metadata": {
  "kernelspec": {
   "display_name": ".venv",
   "language": "python",
   "name": "python3"
  },
  "language_info": {
   "codemirror_mode": {
    "name": "ipython",
    "version": 3
   },
   "file_extension": ".py",
   "mimetype": "text/x-python",
   "name": "python",
   "nbconvert_exporter": "python",
   "pygments_lexer": "ipython3",
   "version": "3.9.13"
  }
 },
 "nbformat": 4,
 "nbformat_minor": 5
}
